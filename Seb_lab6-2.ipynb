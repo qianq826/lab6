{
  "nbformat": 4,
  "nbformat_minor": 0,
  "metadata": {
    "colab": {
      "provenance": [],
      "collapsed_sections": [
        "kIIUoMvr8xPI",
        "fH-L9Sukeh5L"
      ]
    },
    "kernelspec": {
      "name": "python3",
      "display_name": "Python 3"
    },
    "language_info": {
      "name": "python"
    }
  },
  "cells": [
    {
      "cell_type": "markdown",
      "source": [
        "# Agenda\n",
        "\n",
        "- What is Large Language Model?\n",
        "- How does Large Language Models work?\n",
        "- What are the use cases of LLMs?\n",
        "- How to use LLMs effectively? (Prompt Engineering)\n",
        "- How to make LLms smarter?\n",
        "    - Give me more information (RAG)\n",
        "    - Train it more (fine-tuning)"
      ],
      "metadata": {
        "id": "ZPSPXFT-tRME"
      }
    },
    {
      "cell_type": "markdown",
      "source": [
        "# What is Large Language Model?"
      ],
      "metadata": {
        "id": "ZHoQ67sgug2b"
      }
    },
    {
      "cell_type": "markdown",
      "source": [
        "- The core task of the language model is next word prediction. Given a sequence of input words, the neural network predicts the probability distribution of what the next word will be.\n",
        "\n",
        "- Think of it like iPhone keyboard autocomplete\n",
        "\n",
        "- Web data (10TB) -> Training on 6k GPUs for 12 days (~$2M) -> ~140GB file\n",
        "\n",
        "- Compressing the Internet into a small file (~100x smaller)"
      ],
      "metadata": {
        "id": "zSaunicZwKot"
      }
    },
    {
      "cell_type": "markdown",
      "source": [
        "# How do Large Language Models work?"
      ],
      "metadata": {
        "id": "9Z0Eb7sAwBMT"
      }
    },
    {
      "cell_type": "markdown",
      "source": [
        "- A large neural network with billions of parameters (knobs)\n",
        "- We can measure the output, and turn the knobs to optimize performance.\n",
        "- We don't fully understand how the knobs work (blockbox)\n",
        "- Give it a prompt, and it will \"dream\" the rest of the texts"
      ],
      "metadata": {
        "id": "I4CvtjDcwO9e"
      }
    },
    {
      "cell_type": "markdown",
      "source": [
        "# What are the use cases of LLMs?"
      ],
      "metadata": {
        "id": "NMa68vC00yGf"
      }
    },
    {
      "cell_type": "markdown",
      "source": [
        "- NLP tasks\n",
        "    - Text generation\n",
        "    - Classification\n",
        "    - Summarization\n",
        "    - Name-Entity-Recognition\n",
        "    - Question-Answering\n",
        "    - Translation\n",
        "- Higher level tasks\n",
        "    - Research\n",
        "    - Assistants"
      ],
      "metadata": {
        "id": "iZdON5la01kj"
      }
    },
    {
      "cell_type": "markdown",
      "source": [
        "# Why and why not LLMs"
      ],
      "metadata": {
        "id": "F7ukX_-U3JAS"
      }
    },
    {
      "cell_type": "markdown",
      "source": [
        "## Advantages and Disadvantages"
      ],
      "metadata": {
        "id": "o1HgJRMm3L8B"
      }
    },
    {
      "cell_type": "markdown",
      "source": [
        "### Advantages\n",
        "\n",
        "- Versatility\n",
        "- Ability to learn new tasks\n",
        "- Large knowledge\n",
        "- Strong performance\n",
        "\n",
        "### Disadvantages\n",
        "\n",
        "- Lack of true understanding\n",
        "- Hallucination and inconsistency\n",
        "- Bias and fairness issues\n",
        "- Lack of grounding\n",
        "- Difficulty with reasoning\n",
        "- Opaque decision-making\n",
        "- Computational cost\n",
        "- Privacy and security"
      ],
      "metadata": {
        "id": "0RsyCNgc4D6P"
      }
    },
    {
      "cell_type": "markdown",
      "source": [
        "## When to use and not to use LLMs"
      ],
      "metadata": {
        "id": "ZD6VFLgI4IVC"
      }
    },
    {
      "cell_type": "markdown",
      "source": [
        "### When to use LLMs\n",
        "\n",
        "- Creative writing\n",
        "- NLP tasks\n",
        "    - Classification\n",
        "    - Summarization\n",
        "    - Name-Entity-Recognition\n",
        "    - Question-Answering\n",
        "    - Translation\n",
        "\n",
        "### When not to use LLMs\n",
        "\n",
        "- Math\n",
        "- Logic reasoning\n",
        "- Ground truth critical tasks"
      ],
      "metadata": {
        "id": "fADQwz0w4yzK"
      }
    },
    {
      "cell_type": "markdown",
      "source": [
        "# How to use LLMs effectively? (Prompt Engineering)\n",
        "\n",
        "Try all of the following prompting techniques using `OpenAI` or `Gemini` API"
      ],
      "metadata": {
        "id": "4bYSvgYP5MKS"
      }
    },
    {
      "cell_type": "code",
      "source": [
        "import getpass\n",
        "\n",
        "import google.generativeai as genai\n",
        "\n",
        "GOOGLE_API_KEY = getpass.getpass()\n",
        "genai.configure(api_key=GOOGLE_API_KEY)"
      ],
      "metadata": {
        "id": "kGnLcWyTFo9R",
        "colab": {
          "base_uri": "https://localhost:8080/"
        },
        "outputId": "b4f5a2b1-a5cb-4cf0-8016-d7364dab1534"
      },
      "execution_count": 1,
      "outputs": [
        {
          "name": "stdout",
          "output_type": "stream",
          "text": [
            "··········\n"
          ]
        }
      ]
    },
    {
      "cell_type": "code",
      "source": [
        "model = genai.GenerativeModel('gemini-pro')"
      ],
      "metadata": {
        "id": "HtLbXTfQJJ4R"
      },
      "execution_count": 2,
      "outputs": []
    },
    {
      "cell_type": "code",
      "source": [
        "def gen_content(prompt):\n",
        "    response = model.generate_content(prompt)\n",
        "    print(response.text)"
      ],
      "metadata": {
        "id": "KVE86s9PJPc-"
      },
      "execution_count": 3,
      "outputs": []
    },
    {
      "cell_type": "markdown",
      "source": [
        "Six strategies for getting better results\n",
        "\n",
        "- Write clear instructions\n",
        "- Provide reference text\n",
        "- Split complex tasks into simpler subtasks\n",
        "- Give the model time to \"think\"\n",
        "- Use external tools\n",
        "- Test changes systematically\n",
        "\n",
        "source: [OpenAI Prompt Engineering Guide](https://platform.openai.com/docs/guides/prompt-engineering/strategy-write-clear-instructions)"
      ],
      "metadata": {
        "id": "hDGHQNqa6ZW1"
      }
    },
    {
      "cell_type": "markdown",
      "source": [
        "### Write clear instructions"
      ],
      "metadata": {
        "id": "-8ZZsDbP60FG"
      }
    },
    {
      "cell_type": "code",
      "source": [
        "# More detailed prompts\n",
        "prompt1 = \"Tell me a joke\"\n",
        "\n",
        "prompt2 = \"Tell me a joke about Python. Please wirte it in a pirate like language. Include funny emojis\"\n",
        "\n",
        "gen_content(prompt1)\n",
        "print('---------------')\n",
        "gen_content(prompt2)"
      ],
      "metadata": {
        "colab": {
          "base_uri": "https://localhost:8080/",
          "height": 156
        },
        "id": "YfjFYH2tJ2Zn",
        "outputId": "4e6b965b-d9f2-4938-a9eb-e24b72faef0d"
      },
      "execution_count": 4,
      "outputs": [
        {
          "output_type": "stream",
          "name": "stdout",
          "text": [
            "Why did the scarecrow win an award?\n",
            "\n",
            "Because he was outstanding in his field!\n",
            "---------------\n",
            "Avast there, matey! 🏴‍☠️ Why be Python the fastest way to write code?\n",
            "\n",
            "Because it be \"parrot processing,\" where the code be so swiftly read that even a parrot can understand it! 🦜😂\n"
          ]
        }
      ]
    },
    {
      "cell_type": "code",
      "source": [
        "# Ask the model to adope a persona\n",
        "\n",
        "prompt = \"You are an expert in Python programming, please help me write a program to train a machine learning model to image cloud shapes\"\n",
        "gen_content(prompt)"
      ],
      "metadata": {
        "colab": {
          "base_uri": "https://localhost:8080/",
          "height": 629
        },
        "id": "bi6GTG6OKPHu",
        "outputId": "3fb8a32d-01a0-40d3-e0ec-fed9d6a7489d"
      },
      "execution_count": null,
      "outputs": [
        {
          "output_type": "stream",
          "name": "stdout",
          "text": [
            "```python\n",
            "import numpy as np\n",
            "import pandas as pd\n",
            "import matplotlib.pyplot as plt\n",
            "from sklearn.model_selection import train_test_split\n",
            "from sklearn.ensemble import RandomForestClassifier\n",
            "from sklearn.metrics import accuracy_score\n",
            "\n",
            "# Load the cloud shape dataset\n",
            "data = pd.read_csv('cloud_shapes.csv')\n",
            "\n",
            "# Split the data into features and target\n",
            "X = data.drop('cloud_shape', axis=1)\n",
            "y = data['cloud_shape']\n",
            "\n",
            "# Split the data into training and testing sets\n",
            "X_train, X_test, y_train, y_test = train_test_split(X, y, test_size=0.2, random_state=42)\n",
            "\n",
            "# Train the random forest classifier\n",
            "clf = RandomForestClassifier(n_estimators=100)\n",
            "clf.fit(X_train, y_train)\n",
            "\n",
            "# Predict the cloud shapes for the test set\n",
            "y_pred = clf.predict(X_test)\n",
            "\n",
            "# Evaluate the accuracy of the model\n",
            "accuracy = accuracy_score(y_test, y_pred)\n",
            "print('Accuracy:', accuracy)\n",
            "\n",
            "# Plot the feature importances\n",
            "importances = clf.feature_importances_\n",
            "plt.barh(X_train.columns, importances)\n",
            "plt.xlabel('Feature Importance')\n",
            "plt.ylabel('Feature')\n",
            "plt.show()\n",
            "```\n"
          ]
        }
      ]
    },
    {
      "cell_type": "code",
      "source": [
        "# Use delimiters to clearly indicate the distinct parts of the input\n",
        "\n",
        "prompt = \"\"\"You are an expert in technical recruiting. Please read the following resume and job description. Give me suggestion on how to improve my resume\n",
        "\n",
        "<job description>\n",
        "Amazon\n",
        "Senior software engineering\n",
        "The candidate should.....\n",
        "\n",
        "</job description>\n",
        "<resume>\n",
        "Ian Chen\n",
        "Software Engineer\n",
        "</resume>\n",
        "\"\"\"\n",
        "gen_content(prompt)"
      ],
      "metadata": {
        "colab": {
          "base_uri": "https://localhost:8080/",
          "height": 394
        },
        "id": "bWJki2J5KgeL",
        "outputId": "d2796d2b-5d01-41b9-a3e1-e49389184442"
      },
      "execution_count": null,
      "outputs": [
        {
          "output_type": "stream",
          "name": "stdout",
          "text": [
            "**Suggestions for Improving Your Resume:**\n",
            "\n",
            "* **Highlight Relevant Experience and Skills:** The job description mentions specific requirements for a Senior Software Engineer. Ensure your resume clearly showcases your experience and skills that align with these requirements, such as:\n",
            "    * Specific programming languages and technologies used\n",
            "    * Software development lifecycle (SDLC) experience\n",
            "    * Experience with design patterns and architectural principles\n",
            "    * Knowledge of cloud computing platforms\n",
            "\n",
            "* **Quantify Accomplishments:** Use metrics and numbers to quantify your accomplishments and demonstrate the impact of your work. For example, instead of stating \"Developed software solutions,\" describe how your efforts \"Reduced development time by 20%\" or \"Increased software performance by 30%.\"\n",
            "\n",
            "* **Tailor Your Resume:** Customize your resume specifically for the Amazon Senior Software Engineering position. Use keywords from the job description and highlight your skills and experience that are directly relevant to the role.\n",
            "\n",
            "* **Provide Context:** In addition to listing your skills and experience, provide brief descriptions or context to explain how you used these skills in practical applications. For example, under your project experience, describe the specific problems you solved and the technologies or methodologies you employed.\n",
            "\n",
            "* **Proofread Carefully:** Before submitting your resume, proofread it thoroughly for any grammatical or spelling errors. A polished resume reflects professionalism and attention to detail.\n",
            "\n",
            "* **Consider the Title:** While your resume states \"Software Engineer,\" it may be beneficial to change this title to \"Senior Software Engineer\" or \"Senior Software Development Engineer\" to better match the job title of the position you are applying for.\n",
            "\n",
            "* **Include a Skills Summary:** Consider adding a brief skills summary at the top of your resume that highlights your key technical proficiencies, such as programming languages, cloud platforms, and software development tools.\n",
            "\n",
            "* **Use Industry-Specific Keywords:** Research common industry keywords and incorporate them into your resume, particularly in the skills and experience sections. This will help your resume rank higher in relevance searches by potential employers.\n"
          ]
        }
      ]
    },
    {
      "cell_type": "markdown",
      "source": [
        "## #### Include details in your query to get more relevant answers\n",
        "\n",
        "```\n",
        "Summarize the meeting notes.\n",
        "```\n",
        "\n",
        "```\n",
        "Summarize the meeting notes in a single paragraph. Then write a markdown list of the speakers and each of their key points. Finally, list the next steps or action items suggested by the speakers, if any.\n",
        "```\n",
        "\n",
        "#### Ask the model to adopt a persona\n",
        "\n",
        "```\n",
        "You are an expert in Python programming. You have 20 years of programming experience.\n",
        "```\n",
        "\n",
        "#### Use delimiters to clearly indicate distinct parts of the input\n",
        "\n",
        "```\n",
        "Summarize the text delimited by triple quotes with a haiku.\n",
        "\n",
        "\"\"\"insert text here\"\"\"\n",
        "```\n",
        "\n",
        "```\n",
        "You will be provided with a pair of articles (delimited with XML tags) about the same topic. First summarize the arguments of each article. Then indicate which of them makes a better argument and explain why.\n",
        "\n",
        "<article> insert first article here </article>\n",
        "\n",
        "<article> insert second article here </article>\n",
        "```\n",
        "\n",
        "```\n",
        "You will be provided with a thesis abstract and a suggested title for it. The thesis title should give the reader a good idea of the topic of the thesis but should also be eye-catching. If the title does not meet these criteria, suggest 5 alternatives.\n",
        "\n",
        "Abstract: insert abstract here\n",
        "\n",
        "Title: insert title here\n",
        "```\n",
        "\n",
        "#### Specify the steps required to complete a task\n",
        "Some tasks are best specified as a sequence of steps. Writing the steps out explicitly can make it easier for the model to follow them.\n",
        "\n",
        "```\n",
        "Use the following step-by-step instructions to respond to user inputs.\n",
        "\n",
        "Step 1 - The user will provide you with text in triple quotes. Summarize this text in one sentence with a prefix that says \"Summary: \".\n",
        "\n",
        "Step 2 - Translate the summary from Step 1 into Spanish, with a prefix that says \"Translation: \".\n",
        "\n",
        "\"\"\"insert text here\"\"\"\n",
        "```"
      ],
      "metadata": {
        "id": "jx8mUfWYeAyR"
      }
    },
    {
      "cell_type": "code",
      "source": [
        "# More detailed prompts\n",
        "prompt1 = \"Summarize the meeting notes.\"\n",
        "\n",
        "prompt2 = \"Summarize the meeting notes in a single paragraph. Then write a markdown list of the speakers and each of their key points. Finally, list the next steps or action items suggested by the speakers, if any.\"\n",
        "\n",
        "gen_content(prompt1)\n",
        "print('---------------')\n",
        "gen_content(prompt2)"
      ],
      "metadata": {
        "colab": {
          "base_uri": "https://localhost:8080/",
          "height": 1000
        },
        "id": "K2z1Mse6QA_g",
        "outputId": "1953e51c-2f6f-4727-d97f-d969d25bc388"
      },
      "execution_count": null,
      "outputs": [
        {
          "output_type": "stream",
          "name": "stdout",
          "text": [
            "**Meeting Notes Summary**\n",
            "\n",
            "**Attendees:** [List of attendees]\n",
            "\n",
            "**Date and Time:** [Date and time of meeting]\n",
            "\n",
            "**Meeting Objectives:**\n",
            "\n",
            "* [Objective 1]\n",
            "* [Objective 2]\n",
            "\n",
            "**Key Agenda Items:**\n",
            "\n",
            "* **Item 1:**\n",
            "    * Discussion points: [Description of discussion points]\n",
            "    * Action items: [List of action items]\n",
            "* **Item 2:**\n",
            "    * Presentation by [Presenter's name] on [Presentation topic]\n",
            "    * Key takeaways: [Summary of key takeaways]\n",
            "    * Questions and discussion: [Highlights of any questions or discussion]\n",
            "\n",
            "**Decisions and Next Steps:**\n",
            "\n",
            "* [Decision 1]\n",
            "* [Decision 2]\n",
            "* [Next steps:] [List of next steps, including responsible parties and deadlines]\n",
            "\n",
            "**Other Business:**\n",
            "\n",
            "* [Any additional topics or updates discussed]\n",
            "\n",
            "**Adjournment:**\n",
            "\n",
            "* The meeting adjourned at [Time].\n",
            "\n",
            "**Follow-Up Actions:**\n",
            "\n",
            "* [List of any follow-up actions or tasks assigned to individuals]\n",
            "---------------\n",
            "**Meeting Notes Summary:**\n",
            "\n",
            "The meeting focused on the team's progress towards implementing a new marketing campaign. Team members discussed the current status of each phase, identified potential obstacles, and brainstormed solutions. Overall, the team noted positive momentum but acknowledged the need for additional coordination and resource allocation to ensure a successful launch.\n",
            "\n",
            "**Speakers and Key Points:**\n",
            "\n",
            "* **Marketing Manager (Lead Speaker):**\n",
            "    * Reviewed the overall campaign strategy and timeline.\n",
            "    * Highlighted strong progress in content creation and digital advertising.\n",
            "* **Content Creator:**\n",
            "    * Presented a draft of the landing page and email marketing materials.\n",
            "    * Raised concerns about the timely delivery of graphics.\n",
            "* **Social Media Specialist:**\n",
            "    * Shared key metrics and insights from initial social media campaigns.\n",
            "    * Suggested additional engagement strategies to broaden reach.\n",
            "* **Project Manager:**\n",
            "    * Provided an update on resource allocation and timelines.\n",
            "    * Identified areas where additional coordination was needed.\n",
            "\n",
            "**Next Steps or Action Items:**\n",
            "\n",
            "* Coordinate with the graphics team to ensure timely delivery of visuals.\n",
            "* Enhance social media engagement strategies based on insights from initial campaigns.\n",
            "* Improve communication and coordination between team members to resolve potential obstacles proactively.\n"
          ]
        }
      ]
    },
    {
      "cell_type": "code",
      "source": [],
      "metadata": {
        "id": "EUXai9MwFnP7"
      },
      "execution_count": null,
      "outputs": []
    },
    {
      "cell_type": "markdown",
      "source": [
        "### Provide Reference Text\n",
        "\n"
      ],
      "metadata": {
        "id": "kIIUoMvr8xPI"
      }
    },
    {
      "cell_type": "markdown",
      "source": [
        "```\n",
        "Use the provided articles delimited by triple quotes to answer questions. If the answer cannot be found in the articles, write \"I could not find an answer.\"\n",
        "\n",
        "<insert articles, each delimited by triple quotes>\n",
        "\n",
        "Question: <insert question here>\n",
        "```\n",
        "\n",
        "#### Answer with citations from a reference text\n",
        "\n",
        "If the input has been supplemented with relevant knowledge, it's straightforward to request that the model add citations to its answers by referencing passages from provided documents. Note that citations in the output can then be verified programmatically by string matching within the provided documents.\n",
        "\n",
        "```\n",
        "You will be provided with a document delimited by triple quotes and a question. Your task is to answer the question using only the provided document and to cite the passage(s) of the document used to answer the question. If the document does not contain the information needed to answer this question then simply write: \"Insufficient information.\" If an answer to the question is provided, it must be annotated with a citation. Use the following format for to cite relevant passages ({\"citation\": …}).\n",
        "\n",
        "\"\"\"<insert document here>\"\"\"\n",
        "\n",
        "Question: <insert question here>\n",
        "```"
      ],
      "metadata": {
        "id": "e7iX2DvQedCR"
      }
    },
    {
      "cell_type": "markdown",
      "source": [
        "### Split complex tasks into simpler subtasks"
      ],
      "metadata": {
        "id": "fH-L9Sukeh5L"
      }
    },
    {
      "cell_type": "markdown",
      "source": [
        "#### Multi-step prompting\n",
        "\n",
        "1. Write a prompt to ask the model to classify the users input\n",
        "1. Based on the ansewr from the model, choose a second prompt to complete the task\n",
        "\n",
        "Example: Customer service chatbot\n",
        "\n",
        "```\n",
        "You are a complaint categorizer. Based on the users input and the following criteria, please output the category of the users inquery.\n",
        "```\n",
        "\n",
        "A: troubleshooting\n",
        "\n",
        "```\n",
        "You are a customer service agent. Please provide helpful instruction to help the user troubleshoot the product.\n",
        "```"
      ],
      "metadata": {
        "id": "eMp_60TTeuAr"
      }
    },
    {
      "cell_type": "markdown",
      "source": [
        "#### Summarization\n",
        "\n",
        "**Summarize conversations that's too long**\n",
        "\n",
        "LLMs have limited context window lengths. For long conversations that requires context preservation, consider summarize the previous conversation and start new conversation. (GPT-4 16k or 32k)\n",
        "\n",
        "**Chunk long texts then summarize recursively**\n",
        "\n",
        "Chunk longs texts (a book) into reasonably sized tokens (1024, 2048, 4906 tokens, experiemnt with them) then summarize recusively to produce summary of summaries.\n",
        "\n",
        "You can consider running (refine) strategy for summarization"
      ],
      "metadata": {
        "id": "CMi_c4l3fqhE"
      }
    },
    {
      "cell_type": "markdown",
      "source": [
        "### Give model time to think"
      ],
      "metadata": {
        "id": "iBXxrDzzhGMj"
      }
    },
    {
      "cell_type": "code",
      "source": [
        "\"\"\"\n",
        "Read the following JD and resume, do the following tasks\n",
        "1. Output \"good fit\" or \"not good fit\"\n",
        "2. Give the strengh and weaknesses of the candidate for this job\n",
        "\"\"\"\n",
        "\n",
        "\"\"\"\n",
        "Read the following JD and resume, do the following tasks\n",
        "1. Give the strengh and weaknesses of the candidate for this job\n",
        "2. Output \"good fit\" or \"not good fit\"\n",
        "\"\"\""
      ],
      "metadata": {
        "colab": {
          "base_uri": "https://localhost:8080/",
          "height": 35
        },
        "id": "dNtIiQP1AbHq",
        "outputId": "64ae81fa-a3af-4e96-a552-ca8523832df8"
      },
      "execution_count": null,
      "outputs": [
        {
          "output_type": "execute_result",
          "data": {
            "text/plain": [
              "'\\nRead the following JD and resume, do the following tasks\\n1. Give the strengh and weaknesses of the candidate for this job\\n2. Output \"good fit\" or \"not good fit\"\\n'"
            ],
            "application/vnd.google.colaboratory.intrinsic+json": {
              "type": "string"
            }
          },
          "metadata": {},
          "execution_count": 9
        }
      ]
    },
    {
      "cell_type": "code",
      "source": [
        "pip install PyPDF2"
      ],
      "metadata": {
        "colab": {
          "base_uri": "https://localhost:8080/"
        },
        "id": "U0MsKvy8zsQP",
        "outputId": "3930fe0f-9b02-4ca9-9218-8c10855ef350"
      },
      "execution_count": 5,
      "outputs": [
        {
          "output_type": "stream",
          "name": "stdout",
          "text": [
            "Collecting PyPDF2\n",
            "  Downloading pypdf2-3.0.1-py3-none-any.whl (232 kB)\n",
            "\u001b[?25l     \u001b[90m━━━━━━━━━━━━━━━━━━━━━━━━━━━━━━━━━━━━━━━━\u001b[0m \u001b[32m0.0/232.6 kB\u001b[0m \u001b[31m?\u001b[0m eta \u001b[36m-:--:--\u001b[0m\r\u001b[2K     \u001b[91m━━━━━━━━━━━━━━━━━━━━━━━━━━━━━━━━━━━━━━\u001b[0m\u001b[91m╸\u001b[0m\u001b[90m━\u001b[0m \u001b[32m225.3/232.6 kB\u001b[0m \u001b[31m6.6 MB/s\u001b[0m eta \u001b[36m0:00:01\u001b[0m\r\u001b[2K     \u001b[90m━━━━━━━━━━━━━━━━━━━━━━━━━━━━━━━━━━━━━━━━\u001b[0m \u001b[32m232.6/232.6 kB\u001b[0m \u001b[31m5.2 MB/s\u001b[0m eta \u001b[36m0:00:00\u001b[0m\n",
            "\u001b[?25hInstalling collected packages: PyPDF2\n",
            "Successfully installed PyPDF2-3.0.1\n"
          ]
        }
      ]
    },
    {
      "cell_type": "code",
      "source": [
        "\"\"\"\n",
        "Read the following JD and resume, do the following tasks\n",
        "1. Output \"good fit\" or \"not good fit\"\n",
        "2. Give the strengh and weaknesses of the candidate for this job\n",
        "\"\"\"\n",
        "\n",
        "\"\"\"\n",
        "Read the following JD and resume, do the following tasks\n",
        "1. Give the strengh and weaknesses of the candidate for this job\n",
        "2. Output \"good fit\" or \"not good fit\"\n",
        "\"\"\"\n",
        "import PyPDF2\n",
        "\n",
        "# Function to read PDF file\n",
        "def read_pdf(file_path):\n",
        "    with open(file_path, \"rb\") as file:\n",
        "        pdf_reader = PyPDF2.PdfReader(file)\n",
        "        text = \"\"\n",
        "        for page in pdf_reader.pages:\n",
        "            text += page.extract_text()\n",
        "    return text\n",
        "\n",
        "# Load resume and JD\n",
        "resume_text = read_pdf(\"Sebastian_Resume.pdf\")\n",
        "jd_text = \"\"\"Position Overview:\n",
        "\n",
        "We are looking for a Design Engineering Intern to join the Stanley product creation team this summer. The Design Engineering Intern will be part of a growing engineering community at Stanley and, through invention and originality, will support technical product development and engineering of products that inspire consumers to create a more sustainable and less disposable life and world. The Design Engineering Intern will report to an engineering mentor and will work closely with cross-functional partners in industrial design, product management, production engineering, quality, and compliance to support development of consumer centric, reliable, and high-quality products that deliver on the Stanley integrity, performance, and innovation promise.\n",
        "\n",
        "\n",
        "\n",
        "The internship is a 12-week commitment running from either June 3rd – August 23rd, or June 17th to September 6th. This is a hybrid role with expectations of coming into the office about 2 - 3 times a week.\n",
        "\n",
        "\n",
        "\n",
        "What You’ll Do\n",
        "\n",
        "Design\n",
        "\n",
        "Conceptualization: Support project teams to conceptualize new product ideas\n",
        "Human Factors: Prototype and test designs against human factor considerations\n",
        "\n",
        "\n",
        "Engineering\n",
        "\n",
        "Engineering Development: Support on all aspects of product engineering such as mechanism design, material selection, manufacturing methods, assembly, and performance validation to achieve product requirements and preserve design intent\n",
        "Prototyping: Create mock-ups, proof-of-concepts and high-fidelity prototypes to evaluate designs. Leverage internal and external resources to test, draw conclusions and iterate\n",
        "Product Specification Creation: Document product design through technical specification packages, 3D / 2D engineering drawings and bill of materials; support change management\n",
        "Design for Manufacturing: Collaborate with global factory teams to ensure manufacturability\n",
        "Product Validation: Conduct testing of prototypes and manufactured samples and carry out root cause analysis to identify and remedy failure modes\n",
        "Intellectual Property:  Identify possible infringement issues and/or protectable innovations\n",
        "\n",
        "\n",
        "Project Management / Communication\n",
        "\n",
        "Engineering Communication:  Support on technical communication between project team and international factory partners to clearly communicate product needs and document design\n",
        "Presentations: Publicly present and effectively communicate to a variety of audiences of peers and leadership throughout product development cycle\n",
        "\n",
        "\n",
        "Who You Are\n",
        "\n",
        "Mechanical Aptitude: Strong ability to conceptualize, design, and validate mechanical systems\n",
        "Problem Solver: Someone who takes a methodical approach to problem identification and root cause analysis. Leverages creativity and curiosity to solve problems. Learns from failure and iterates quickly\n",
        "Communicator and Collaborator: Strong interpersonal, presentation, and communication skills. Capability and willingness to collaborate with international teams and non-native English speakers\n",
        "Consumer Centric: Passionate about creating consumer centric product and user experiences\n",
        "Aesthetically Driven: Someone who understands and appreciates graphic, color, materiality and form of products\n",
        "Organized: Strong organizational skills and attention to detail and takes ownership of their projects\n",
        "\n",
        "\n",
        "Education and Experience\n",
        "\n",
        "Education: Junior, Senior, or Grad student currently pursuing a Bachelor’s or Master’s degree in Engineering (Mechanical/ Manufacturing or related field)\n",
        "CAD: CAD experience required (Solidworks preferred)\n",
        "Manufacturing: Familiarity with manufacturing methods including Injection molding and metal forming\n",
        "Digital Tools: Proficient with MS Office, Adobe creative suite desirable\n",
        "Machine Shop / Rapid Prototyping: comfortable with machine shop, rapid prototyping and lab tools\n",
        "Engineering Analysis: Familiarity with analysis tools: DFMEA, FEA, DOE, mold flow, tolerancing\n",
        "Portfolio: A portfolio of relevant project work (school, personal, internship, etc.) is preferred \"\"\"\n",
        "\n",
        "# Analyze the resume against the JD\n",
        "def analyze_fit(resume, jd):\n",
        "    # Simple analysis based on keyword matching (example only, not robust)\n",
        "    required_skills = [\"Conceptualization\", \"Prototyping\", \"Engineering Development\", \"Product Specification Creation\"]\n",
        "    strengths = []\n",
        "    weaknesses = []\n",
        "\n",
        "    for skill in required_skills:\n",
        "        if skill.lower() in resume.lower():\n",
        "            strengths.append(skill)\n",
        "        else:\n",
        "            weaknesses.append(skill)\n",
        "\n",
        "    fit_score = len(strengths) / len(required_skills)\n",
        "    if fit_score > 0.6:\n",
        "        fit_result = \"good fit\"\n",
        "    else:\n",
        "        fit_result = \"not good fit\"\n",
        "\n",
        "    return fit_result, strengths, weaknesses\n",
        "\n",
        "# Run the analysis\n",
        "fit_result, strengths, weaknesses = analyze_fit(resume_text, jd_text)\n",
        "print(\"Fit Result:\", fit_result)\n",
        "print(\"Strengths:\", strengths)\n",
        "print(\"Weaknesses:\", weaknesses)\n"
      ],
      "metadata": {
        "colab": {
          "base_uri": "https://localhost:8080/"
        },
        "id": "JNR_c-X6z4Gr",
        "outputId": "3dc92afe-257a-4123-aec7-aa0690c24729"
      },
      "execution_count": 6,
      "outputs": [
        {
          "output_type": "stream",
          "name": "stdout",
          "text": [
            "Fit Result: not good fit\n",
            "Strengths: []\n",
            "Weaknesses: ['Conceptualization', 'Prototyping', 'Engineering Development', 'Product Specification Creation']\n"
          ]
        }
      ]
    },
    {
      "cell_type": "markdown",
      "source": [
        "**Chain of thought**\n",
        "\n",
        "The order of output matters.\n",
        "\n",
        "Ask the model to think and layout the strategy first before outputting the final decision.\n",
        "\n",
        "**Inner monologue to hide chain of thoughts**\n",
        "\n",
        "Ask the model to output the intermediate thoughts in a structured format (such as \"\"\" triple quotes) that's easy to parsed in a post procesisng step.\n",
        "\n",
        "**multi step prompting**\n",
        "\n",
        "In a evaluation or reasoning task\n",
        "\n",
        "- Ask the model to perform task on it's own\n",
        "- Evaluate the users input\n",
        "- (Bonus) Ask a different persona to give final verdict"
      ],
      "metadata": {
        "id": "CSK-_Xj2hIaL"
      }
    },
    {
      "cell_type": "markdown",
      "source": [
        "### User External Tools"
      ],
      "metadata": {
        "id": "L07wK_6-iMZT"
      }
    },
    {
      "cell_type": "markdown",
      "source": [
        "**Search for relevent information and inject into context**\n",
        "\n",
        "- Vector searching using embeddings\n",
        "- Google search\n",
        "\n",
        "**Ask model to generate code**\n",
        "\n",
        "```\n",
        "You can write and execute Python code by enclosing it in triple backticks, e.g. ```code goes here```. Use this to perform calculations.\n",
        "\n",
        "Find all real-valued roots of the following polynomial: 3*x**5 - 5*x**4 - 3*x**3 - 7*x - 10.\n",
        "```\n",
        "\n",
        "```\n",
        "You can write and execute Python code by enclosing it in triple backticks. Also note that you have access to the following module to help users send messages to their friends:\n",
        "\n",
        "```python\n",
        "import message\n",
        "message.write(to=\"John\", message=\"Hey, want to meetup after work?\")```\n",
        "```\n",
        "\n",
        "It's dangerous to run model generated code without sandboxing.\n",
        "\n",
        "Consider using [function calling](https://platform.openai.com/docs/guides/function-calling) instead"
      ],
      "metadata": {
        "id": "Xf9n2ZeiiOwZ"
      }
    },
    {
      "cell_type": "code",
      "source": [
        "\"\"\"\n",
        "def get_weather(location_name):\n",
        "    weather = requests.get(location_name)\n",
        "    return weather\n",
        "\"\"\"\n",
        "\n",
        "\"\"\"\n",
        "You have access to this function, here is the function definition\n",
        "\n",
        "{\n",
        "    \"function_name\": \"get_weather\",\n",
        "    \"arguments: [\n",
        "        \"location_name\": \"this is the name of the location to search for the weather\"\n",
        "    ]\n",
        "}\n",
        "\n",
        "Questions: What is the weather in Seattle?\n",
        "\"\"\"\n",
        "\n",
        "\"\"\"\n",
        "get_weather(\"Seattle\")\n",
        "\"\"\""
      ],
      "metadata": {
        "colab": {
          "base_uri": "https://localhost:8080/",
          "height": 35
        },
        "id": "ShI_lWD3DINW",
        "outputId": "186bbb16-48ea-4752-e8c0-186105abb2b8"
      },
      "execution_count": null,
      "outputs": [
        {
          "output_type": "execute_result",
          "data": {
            "text/plain": [
              "'\\nget_weather(\"Seattle\")\\n'"
            ],
            "application/vnd.google.colaboratory.intrinsic+json": {
              "type": "string"
            }
          },
          "metadata": {},
          "execution_count": 6
        }
      ]
    },
    {
      "cell_type": "code",
      "source": [
        "pip install requests\n"
      ],
      "metadata": {
        "colab": {
          "base_uri": "https://localhost:8080/"
        },
        "id": "K-DrzNTr0B68",
        "outputId": "7a26b2c2-69ff-42f0-bd32-f64a4900537a"
      },
      "execution_count": 8,
      "outputs": [
        {
          "output_type": "stream",
          "name": "stdout",
          "text": [
            "Requirement already satisfied: requests in /usr/local/lib/python3.10/dist-packages (2.31.0)\n",
            "Requirement already satisfied: charset-normalizer<4,>=2 in /usr/local/lib/python3.10/dist-packages (from requests) (3.3.2)\n",
            "Requirement already satisfied: idna<4,>=2.5 in /usr/local/lib/python3.10/dist-packages (from requests) (3.7)\n",
            "Requirement already satisfied: urllib3<3,>=1.21.1 in /usr/local/lib/python3.10/dist-packages (from requests) (2.0.7)\n",
            "Requirement already satisfied: certifi>=2017.4.17 in /usr/local/lib/python3.10/dist-packages (from requests) (2024.2.2)\n"
          ]
        }
      ]
    },
    {
      "cell_type": "code",
      "source": [
        "pip install numpy"
      ],
      "metadata": {
        "colab": {
          "base_uri": "https://localhost:8080/"
        },
        "id": "F6JmQHma0ERR",
        "outputId": "5de731f0-6726-424c-bff5-04cf66410279"
      },
      "execution_count": 10,
      "outputs": [
        {
          "output_type": "stream",
          "name": "stdout",
          "text": [
            "Requirement already satisfied: numpy in /usr/local/lib/python3.10/dist-packages (1.25.2)\n"
          ]
        }
      ]
    },
    {
      "cell_type": "code",
      "source": [
        "pip install scikit-learn"
      ],
      "metadata": {
        "colab": {
          "base_uri": "https://localhost:8080/"
        },
        "id": "cUUjDoXF0HfG",
        "outputId": "69ef4b5d-6240-478f-b283-35db28cea3bf"
      },
      "execution_count": 11,
      "outputs": [
        {
          "output_type": "stream",
          "name": "stdout",
          "text": [
            "Requirement already satisfied: scikit-learn in /usr/local/lib/python3.10/dist-packages (1.2.2)\n",
            "Requirement already satisfied: numpy>=1.17.3 in /usr/local/lib/python3.10/dist-packages (from scikit-learn) (1.25.2)\n",
            "Requirement already satisfied: scipy>=1.3.2 in /usr/local/lib/python3.10/dist-packages (from scikit-learn) (1.11.4)\n",
            "Requirement already satisfied: joblib>=1.1.1 in /usr/local/lib/python3.10/dist-packages (from scikit-learn) (1.4.0)\n",
            "Requirement already satisfied: threadpoolctl>=2.0.0 in /usr/local/lib/python3.10/dist-packages (from scikit-learn) (3.5.0)\n"
          ]
        }
      ]
    },
    {
      "cell_type": "code",
      "source": [
        "pip install scipy"
      ],
      "metadata": {
        "colab": {
          "base_uri": "https://localhost:8080/"
        },
        "id": "p4EkhV0k0I6J",
        "outputId": "f79eaabb-d68f-4d5b-aa13-92fb14579506"
      },
      "execution_count": 12,
      "outputs": [
        {
          "output_type": "stream",
          "name": "stdout",
          "text": [
            "Requirement already satisfied: scipy in /usr/local/lib/python3.10/dist-packages (1.11.4)\n",
            "Requirement already satisfied: numpy<1.28.0,>=1.21.6 in /usr/local/lib/python3.10/dist-packages (from scipy) (1.25.2)\n"
          ]
        }
      ]
    },
    {
      "cell_type": "code",
      "source": [
        "import requests\n",
        "import numpy as np\n",
        "from sklearn.metrics.pairwise import cosine_similarity\n",
        "\n",
        "# Function to get embeddings for search\n",
        "def get_embeddings(text, url='https://api.example.com/get_embeddings'):\n",
        "    response = requests.post(url, json={'text': text})\n",
        "    if response.status_code == 200:\n",
        "        return np.array(response.json()['embedding'])\n",
        "    else:\n",
        "        raise Exception(\"Failed to fetch embeddings: \" + response.text)\n",
        "\n",
        "# Function to find similar documents using embeddings\n",
        "def find_similar_documents(query, documents):\n",
        "    query_embedding = get_embeddings(query)\n",
        "    doc_embeddings = np.array([get_embeddings(doc) for doc in documents])\n",
        "    similarities = cosine_similarity([query_embedding], doc_embeddings)\n",
        "    return np.argmax(similarities)\n",
        "\n",
        "# Example usage of embeddings for finding relevant documents\n",
        "documents = [\"doc1 text\", \"doc2 text\", \"doc3 text\"]\n",
        "query = \"relevant information about vector search\"\n",
        "try:\n",
        "    relevant_doc_index = find_similar_documents(query, documents)\n",
        "    print(\"Most relevant document:\", documents[relevant_doc_index])\n",
        "except Exception as e:\n",
        "    print(\"Error:\", e)\n"
      ],
      "metadata": {
        "colab": {
          "base_uri": "https://localhost:8080/"
        },
        "id": "c6aCePoA0PCc",
        "outputId": "87ef2063-eb76-4153-cc83-d1840db1f8d4"
      },
      "execution_count": 13,
      "outputs": [
        {
          "output_type": "stream",
          "name": "stdout",
          "text": [
            "Error: HTTPSConnectionPool(host='api.example.com', port=443): Max retries exceeded with url: /get_embeddings (Caused by NameResolutionError(\"<urllib3.connection.HTTPSConnection object at 0x7f93a2ac75e0>: Failed to resolve 'api.example.com' ([Errno -2] Name or service not known)\"))\n"
          ]
        }
      ]
    },
    {
      "cell_type": "code",
      "source": [
        "#enhance the lab5 web\n",
        "prompt1 = \"\"\"\n",
        "help me enhance the user experience of my lab5, and write the updated code. This is my original code:\n",
        "import os\n",
        "import psycopg2\n",
        "import google.generativeai as genai\n",
        "from dotenv import load_dotenv\n",
        "import streamlit as st\n",
        "\n",
        "# Load environment variables\n",
        "load_dotenv()\n",
        "\n",
        "# Configure API\n",
        "genai.configure(api_key=os.getenv(\"GOOGLE_API_KEY\"))\n",
        "model = genai.GenerativeModel('gemini-pro')\n",
        "\n",
        "# Database connection\n",
        "def connect_db():\n",
        "    return psycopg2.connect(os.getenv(\"DATABASE_URL\"))\n",
        "\n",
        "# Insert trip to the database\n",
        "def insert_trip(destination, departure_date, return_date, activities, accommodation, plan_details):\n",
        "    conn = connect_db()\n",
        "    cur = conn.cursor()\n",
        "    sql = '''INSERT INTO trips (destination, departure_date, return_date, activities, accommodation, plan_details)\n",
        "             VALUES (%s, %s, %s, %s, %s, %s);'''\n",
        "    cur.execute(sql, (destination, departure_date, return_date, activities, accommodation, plan_details))\n",
        "    conn.commit()\n",
        "    cur.close()\n",
        "    conn.close()\n",
        "\n",
        "# Generate content using Gemini API\n",
        "def generate_content(prompt):\n",
        "    response = model.generate_content(prompt)\n",
        "    return response.text\n",
        "\n",
        "# Streamlit UI for trip planning\n",
        "st.title(\"🏝️ AI Travel Planning\")\n",
        "\n",
        "prompt_template = '''\n",
        "You are an expert at planning overseas trips.\n",
        "\n",
        "Please take the users request and plan a comprehensive trip for them.\n",
        "\n",
        "Please include the following details:\n",
        "- The destination\n",
        "- The duration of the trip\n",
        "- The departure and return dates\n",
        "- The flight options\n",
        "- The activities that will be done\n",
        "- The accommodation options\n",
        "\n",
        "The user's request is:\n",
        "{prompt}\n",
        "'''\n",
        "\n",
        "# User inputs\n",
        "destination = st.text_input(\"Destination\")\n",
        "departure_date = st.date_input(\"Departure Date\")\n",
        "return_date = st.date_input(\"Return Date\")\n",
        "activities = st.text_area(\"Activities you're interested in\")\n",
        "accommodation_preference = st.selectbox(\"Accommodation Preference\", [\"Hotel\", \"Hostel\", \"Apartment\", \"Other\"])\n",
        "\n",
        "if st.button(\"Give me a plan!\"):\n",
        "    full_request = f\"Destination: {destination}, Departure Date: {departure_date}, Return Date: {return_date}, Activities: {activities}, Accommodation: {accommodation_preference}\"\n",
        "    prompt = prompt_template.format(prompt=full_request)\n",
        "    reply = generate_content(prompt)\n",
        "    st.write(reply)\n",
        "    # Save to database\n",
        "    insert_trip(destination, departure_date, return_date, activities, accommodation_preference, reply)\n",
        "    st.success(\"Trip saved successfully!\")\n",
        "\n",
        "# Display saved trips from the database\n",
        "if st.checkbox(\"Show Saved Trips\"):\n",
        "    st.header(\"Saved Trips\")\n",
        "    conn = connect_db()\n",
        "    cur = conn.cursor()\n",
        "    cur.execute(\"SELECT * FROM trips\")\n",
        "    trips = cur.fetchall()\n",
        "    cur.close()\n",
        "    conn.close()\n",
        "    if trips:\n",
        "        for trip in trips:\n",
        "            st.subheader(f\"Trip to {trip[1]}\")\n",
        "            st.text(f\"Dates: {trip[2]} to {trip[3]}\")\n",
        "            st.text(f\"Activities: {trip[4]}\")\n",
        "            st.text(f\"Accommodation: {trip[5]}\")\n",
        "            st.text(f\"Plan Details: {trip[6]}\")\n",
        "    else:\n",
        "        st.error(\"No saved trips found.\")\n",
        "\n",
        "\n",
        "\"\"\"\n",
        "gen_content(prompt1)\n",
        "print('---------------')"
      ],
      "metadata": {
        "colab": {
          "base_uri": "https://localhost:8080/",
          "height": 1000
        },
        "id": "-FqkQ1S80S4S",
        "outputId": "ea734075-c572-44db-de30-75e369370682"
      },
      "execution_count": 17,
      "outputs": [
        {
          "output_type": "stream",
          "name": "stdout",
          "text": [
            "## Enhancements to Improve User Experience\n",
            "\n",
            "**Enhanced User Interface:**\n",
            "\n",
            "* **Custom CSS:** Style the UI with custom CSS to improve visual appeal and consistency.\n",
            "* **Semantic HTML:** Use semantic HTML elements (e.g., `<h1>`, `<h2>`, `<p>`) to structure the content and enhance accessibility.\n",
            "* **Responsive Design:** Ensure the UI adapts well to different screen sizes and devices.\n",
            "\n",
            "**Improved Informativeness:**\n",
            "\n",
            "* **Clearer Input Labels:** Provide descriptive labels for all input fields to clearly indicate their purpose.\n",
            "* **Contextual Help:** Integrate tooltips or hover-over descriptions to provide additional information and guidance to users.\n",
            "* **Error Handling:** Handle potential input errors gracefully and provide helpful error messages to assist users.\n",
            "\n",
            "**Streamlined Trip Planning Process:**\n",
            "\n",
            "* **Pre-filled Values:** Populate default values in input fields based on user preferences or previous selections, reducing redundant data entry.\n",
            "* **Auto-Suggestion:** Implement auto-suggestion functionality for destination and accommodation search to simplify input.\n",
            "* **Progress Indicator:** Show a progress indicator during content generation to inform users of the process.\n",
            "\n",
            "**Efficient Database Integration:**\n",
            "\n",
            "* **Connection Pooling:** Use a connection pool to optimize database interactions and improve performance.\n",
            "* **Batch Inserts:** If multiple trips are saved at once, consider using batch inserts to reduce database overhead.\n",
            "* **Data Validation:** Implement data validation to ensure that only valid information is stored in the database.\n",
            "\n",
            "## Updated Code:\n",
            "\n",
            "```python\n",
            "import os\n",
            "import psycopg2\n",
            "import google.generativeai as genai\n",
            "from dotenv import load_dotenv\n",
            "import streamlit as st\n",
            "\n",
            "# Load environment variables\n",
            "load_dotenv()\n",
            "\n",
            "# Configure API\n",
            "genai.configure(api_key=os.getenv(\"GOOGLE_API_KEY\"))\n",
            "model = genai.GenerativeModel('gemini-pro')\n",
            "\n",
            "# Database connection\n",
            "def connect_db():\n",
            "    return psycopg2.connect(os.getenv(\"DATABASE_URL\"),\n",
            "                           connection_factory=psycopg2.extras.NamedTupleCursorFactory)\n",
            "\n",
            "# Insert trip to the database\n",
            "def insert_trip(destination, departure_date, return_date, activities, accommodation, plan_details):\n",
            "    conn = connect_db()\n",
            "    cur = conn.cursor()\n",
            "    sql = '''INSERT INTO trips (destination, departure_date, return_date, activities, accommodation, plan_details)\n",
            "             VALUES (%s, %s, %s, %s, %s, %s);'''\n",
            "    cur.execute(sql, (destination, departure_date, return_date, activities, accommodation, plan_details))\n",
            "    conn.commit()\n",
            "    cur.close()\n",
            "    conn.close()\n",
            "\n",
            "# Generate content using Gemini API\n",
            "def generate_content(prompt):\n",
            "    response = model.generate_content(prompt)\n",
            "    return response.text\n",
            "\n",
            "# Streamlit UI for trip planning\n",
            "st.set_page_config(layout=\"wide\")  # Set wide layout to maximize screen space\n",
            "st.title(\"🏝️ AI Travel Planning\")\n",
            "\n",
            "prompt_template = '''\n",
            "You are an expert at planning overseas trips.\n",
            "\n",
            "Please take the users request and plan a comprehensive trip for them.\n",
            "\n",
            "Please include the following details:\n",
            "- The destination\n",
            "- The duration of the trip\n",
            "- The departure and return dates\n",
            "- The flight options\n",
            "- The activities that will be done\n",
            "- The accommodation options\n",
            "\n",
            "The user's request is:\n",
            "{prompt}\n",
            "'''\n",
            "\n",
            "# User inputs\n",
            "destination = st.text_input(\"Destination\", placeholder=\"Enter your dream destination\")\n",
            "departure_date = st.date_input(\"Departure Date\", placeholder=\"When do you want to leave?\")\n",
            "return_date = st.date_input(\"Return Date\", placeholder=\"When do you want to come back?\")\n",
            "activities = st.text_area(\"Activities you're interested in\", placeholder=\"List activities you'd like to experience\")\n",
            "accommodation_preference = st.selectbox(\"Accommodation Preference\", [\"Hotel\", \"Hostel\", \"Apartment\", \"Other\"],\n",
            "                                      placeholder=\"What type of accommodation do you prefer?\")\n",
            "\n",
            "if st.button(\"Give me a plan!\"):\n",
            "    full_request = f\"Destination: {destination}, Departure Date: {departure_date.strftime('%Y-%m-%d')}, Return Date: {return_date.strftime('%Y-%m-%d')}, Activities: {activities}, Accommodation: {accommodation_preference}\"\n",
            "    prompt = prompt_template.format(prompt=full_request)\n",
            "    reply = generate_content(prompt)\n",
            "    st.write(reply)\n",
            "    # Save to database\n",
            "    insert_trip(destination, departure_date, return_date, activities, accommodation_preference, reply)\n",
            "    st.success(\"Trip saved successfully!\")\n",
            "\n",
            "# Display saved trips from the database\n",
            "if st.checkbox(\"Show Saved Trips\"):\n",
            "    st.header(\"Saved Trips\")\n",
            "    conn = connect_db()\n",
            "    cur = conn.cursor()\n",
            "    cur.execute(\"SELECT * FROM trips\")\n",
            "    trips = cur.fetchall()\n",
            "    cur.close()\n",
            "    conn.close()\n",
            "    if trips:\n",
            "        for trip in trips:\n",
            "            st.subheader(f\"Trip to {trip.destination}\")\n",
            "            st.text(f\"Dates: {trip.departure_date} to {trip.return_date}\")\n",
            "            st.text(f\"Activities: {trip.activities}\")\n",
            "            st.text(f\"Accommodation: {trip.accommodation}\")\n",
            "            st.text(f\"Plan Details: {trip.plan_details}\")\n",
            "    else:\n",
            "        st.error(\"No saved trips found.\")\n",
            "```\n",
            "---------------\n"
          ]
        }
      ]
    },
    {
      "cell_type": "markdown",
      "source": [
        "# References\n",
        "\n",
        "## Documents\n",
        "\n",
        "- [Steven Wolfram's intro to LLM](https://writings.stephenwolfram.com/2023/02/what-is-chatgpt-doing-and-why-does-it-work/)\n",
        "- [Mistral AI docs](https://docs.mistral.ai/guides/resources/)\n",
        "- [OpenAI Prompt Engineering](https://platform.openai.com/examples)\n",
        "- [Elastic's intro to LLM](https://www.elastic.co/what-is/large-language-models)\n",
        "\n",
        "## Youtube\n",
        "\n",
        "- [Awesome talk by Andrej Karpathy](https://youtu.be/zjkBMFhNj_g?si=wPxLgMJ2D-CZsQvv)\n",
        "- [Large Language Models](https://www.youtube.com/watch?v=YDiSFS-yHwk)\n",
        "\n",
        "## Colab Notebooks\n",
        "\n",
        "- https://colab.research.google.com/drive/1uQABWrbU17DwLQdDZ8k5d_UJVlrAkwZ5?usp=sharing\n",
        "\n",
        "## GitHub\n",
        "\n",
        "- https://github.com/mlabonne/llm-course\n",
        "\n",
        "- https://github.com/datainsightat/introduction_llm\n",
        "\n",
        "- https://github.com/Ryota-Kawamura/Generative-AI-with-LLMs/tree/main\n",
        "\n",
        "- https://github.com/sinanuozdemir/oreilly-hands-on-transformers\n",
        "\n",
        "- https://github.com/gkamradt/langchain-tutorials\n",
        "\n",
        "- https://github.com/openai/openai-cookbook\n",
        "\n",
        "- https://github.com/dair-ai/Prompt-Engineering-Guide\n",
        "\n",
        "- https://github.com/ksm26/chatGPT-Prompt-Engineering-for-Developers\n",
        "\n",
        "- https://github.com/kevinamiri/Instructgpt-prompts\n",
        "\n",
        "- https://github.com/promptslab/Promptify\n",
        "\n",
        "- https://github.com/dair-ai/Prompt-Engineering-Guide\n",
        "\n",
        "## Papers\n",
        "\n",
        "- [Attention is all you need](https://arxiv.org/abs/1706.03762)\n",
        "- [FINETUNED LANGUAGE MODELS ARE ZERO-SHOT LEARNERS](https://openreview.net/pdf?id=gEZrGCozdqR)\n",
        "- [Language Models are Few-Shot Learners](https://arxiv.org/pdf/2005.14165)"
      ],
      "metadata": {
        "id": "RA64OmGW6LEL"
      }
    },
    {
      "cell_type": "code",
      "source": [],
      "metadata": {
        "id": "eHpT2dBBj0Zl"
      },
      "execution_count": null,
      "outputs": []
    }
  ]
}